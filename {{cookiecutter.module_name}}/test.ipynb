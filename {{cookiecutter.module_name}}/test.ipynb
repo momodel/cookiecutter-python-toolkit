{
 "cells": [
  {
   "cell_type": "code",
   "execution_count": 1,
   "metadata": {},
   "outputs": [],
   "source": [
    "# You can use other public modules via our Client object with module's identifier \n",
    "# and parameters.\n",
    "# For more detailes, please see our online document - https://momodel.github.io/mo/#\n",
    "\n",
    "import os\n",
    "import sys\n",
    "\n",
    "# Define root path\n",
    "sys.path.append('../')\n",
    "\n",
    "# Import necessary packages\n",
    "from modules import json_parser\n",
    "from modules import Client\n",
    "\n",
    "# Initialise Client object\n",
    "client = Client(api_key='your_api_key',\n",
    "                project_id='your_project_id', user_ID='your_user_ID',\n",
    "                project_type='your_project_type', source_file_path='Untitled.ipynb')\n",
    "\n",
    "# Make run/train/predict commnad alias for furthur use\n",
    "run = client.run\n",
    "train = client.train\n",
    "predict = client.predict\n",
    "\n",
    "# Run a importred module \n",
    "# e.g. \n",
    "#      conf = json_parser('{\"rgb_image\":null,\"gray_image\":null}') \n",
    "#      result = run('zhaofengli/new_gender_classifier/0.0.2', conf)\n",
    "#\n",
    "# 'conf' is the parameters in dict form for the imported module\n",
    "# '[user_id]/[imported_module_name]/[version]' is the identifier of the imported module\n",
    "\n",
    "\n",
    "# Make controller alias for further use\n",
    "controller = client.controller\n",
    "\n",
    "# IMPORTANT: Add 'work_path' to the head of every file path in your code.\n",
    "# e.g.\n",
    "#      jpgfile = Image.open(work_path + \"picture.jpg\") \n",
    "work_path = './'"
   ]
  },
  {
   "cell_type": "code",
   "execution_count": null,
   "metadata": {},
   "outputs": [],
   "source": [
    "module = client.module('{{cookiecutter.encoded_name}}/dev')"
   ]
  },
  {
   "cell_type": "code",
   "execution_count": null,
   "metadata": {},
   "outputs": [],
   "source": [
    "module.run({\"params1\": \"value1\", \"params2\": \"value2\"})"
   ]
  },
  {
   "cell_type": "code",
   "execution_count": null,
   "metadata": {},
   "outputs": [],
   "source": []
  }
 ],
 "metadata": {
  "kernelspec": {
   "display_name": "Python 3",
   "language": "python",
   "name": "python3"
  },
  "language_info": {
   "codemirror_mode": {
    "name": "ipython",
    "version": 3
   },
   "file_extension": ".py",
   "mimetype": "text/x-python",
   "name": "python",
   "nbconvert_exporter": "python",
   "pygments_lexer": "ipython3",
   "version": "3.5.2"
  }
 },
 "nbformat": 4,
 "nbformat_minor": 2
}
